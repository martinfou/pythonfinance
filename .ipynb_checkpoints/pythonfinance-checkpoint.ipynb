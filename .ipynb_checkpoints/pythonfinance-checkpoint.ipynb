{
 "cells": [
  {
   "cell_type": "code",
   "execution_count": 1,
   "metadata": {},
   "outputs": [],
   "source": [
    "def source_finder(str):\n",
    "    return str[21:]\n",
    "\n"
   ]
  },
  {
   "cell_type": "code",
   "execution_count": 2,
   "metadata": {},
   "outputs": [
    {
     "data": {
      "text/plain": [
       "'QUANDL'"
      ]
     },
     "execution_count": 2,
     "metadata": {},
     "output_type": "execute_result"
    }
   ],
   "source": [
    "source_finder('price:345.324:SOURCE-QUANDL')"
   ]
  },
  {
   "cell_type": "code",
   "execution_count": 3,
   "metadata": {},
   "outputs": [],
   "source": [
    "def price_finder(price):\n",
    "    if price.lower().find(\"price\") == -1:\n",
    "        return False\n",
    "    else :\n",
    "        return True\n",
    "    "
   ]
  },
  {
   "cell_type": "code",
   "execution_count": 4,
   "metadata": {},
   "outputs": [
    {
     "data": {
      "text/plain": [
       "True"
      ]
     },
     "execution_count": 4,
     "metadata": {},
     "output_type": "execute_result"
    }
   ],
   "source": [
    "price_finder('The price is 300')"
   ]
  },
  {
   "cell_type": "code",
   "execution_count": 5,
   "metadata": {},
   "outputs": [],
   "source": [
    "def count_price(s):\n",
    "    counter = 0\n",
    "    s2 = s.split(\" \")\n",
    "    for word in s2:\n",
    "        if(word.lower().find(\"price\")!=-1):\n",
    "            print(word)\n",
    "            counter = counter +1\n",
    "    return counter"
   ]
  },
  {
   "cell_type": "code",
   "execution_count": 6,
   "metadata": {},
   "outputs": [
    {
     "name": "stdout",
     "output_type": "stream",
     "text": [
      "price,\n",
      "price!\n",
      "PRICE\n"
     ]
    },
    {
     "data": {
      "text/plain": [
       "3"
      ]
     },
     "execution_count": 6,
     "metadata": {},
     "output_type": "execute_result"
    }
   ],
   "source": [
    "count_price(\"wow this is a nice price, very nice price! I said PRICE 3 times\")"
   ]
  },
  {
   "cell_type": "code",
   "execution_count": 7,
   "metadata": {},
   "outputs": [],
   "source": [
    "from statistics import mean\n",
    "def avg_price(priceList):\n",
    "    return mean(priceList)"
   ]
  },
  {
   "cell_type": "code",
   "execution_count": 8,
   "metadata": {},
   "outputs": [
    {
     "data": {
      "text/plain": [
       "3"
      ]
     },
     "execution_count": 8,
     "metadata": {},
     "output_type": "execute_result"
    }
   ],
   "source": [
    "avg_price([2,3,4])"
   ]
  },
  {
   "cell_type": "code",
   "execution_count": 9,
   "metadata": {},
   "outputs": [],
   "source": [
    "import numpy as np\n",
    "import pandas as pd\n",
    "\n",
    "labels = ['a','b','c',]\n",
    "my_list = [10,20,30]\n",
    "arr = np.array([10,20,30])\n",
    "dico = {'a':10,'b':20,'c':100}\n"
   ]
  },
  {
   "cell_type": "code",
   "execution_count": 10,
   "metadata": {},
   "outputs": [
    {
     "data": {
      "text/plain": [
       "a    10\n",
       "b    20\n",
       "c    30\n",
       "dtype: int64"
      ]
     },
     "execution_count": 10,
     "metadata": {},
     "output_type": "execute_result"
    }
   ],
   "source": [
    "pd.Series(my_list,index=labels)"
   ]
  },
  {
   "cell_type": "code",
   "execution_count": 11,
   "metadata": {},
   "outputs": [
    {
     "data": {
      "text/plain": [
       "a    10\n",
       "b    20\n",
       "c    30\n",
       "dtype: int64"
      ]
     },
     "execution_count": 11,
     "metadata": {},
     "output_type": "execute_result"
    }
   ],
   "source": [
    "pd.Series(arr,labels)"
   ]
  },
  {
   "cell_type": "code",
   "execution_count": 12,
   "metadata": {},
   "outputs": [
    {
     "data": {
      "text/plain": [
       "a     10\n",
       "b     20\n",
       "c    100\n",
       "dtype: int64"
      ]
     },
     "execution_count": 12,
     "metadata": {},
     "output_type": "execute_result"
    }
   ],
   "source": [
    "pd.Series(dico)"
   ]
  },
  {
   "cell_type": "code",
   "execution_count": 13,
   "metadata": {},
   "outputs": [],
   "source": [
    "from numpy.random import randn\n",
    "np.random.seed(101)\n"
   ]
  },
  {
   "cell_type": "code",
   "execution_count": 14,
   "metadata": {},
   "outputs": [],
   "source": [
    "df = pd.DataFrame(randn(5,4),['A','B','C','D','E'],['W','X','Y','Z'])"
   ]
  },
  {
   "cell_type": "code",
   "execution_count": 15,
   "metadata": {},
   "outputs": [
    {
     "data": {
      "text/html": [
       "<div>\n",
       "<style scoped>\n",
       "    .dataframe tbody tr th:only-of-type {\n",
       "        vertical-align: middle;\n",
       "    }\n",
       "\n",
       "    .dataframe tbody tr th {\n",
       "        vertical-align: top;\n",
       "    }\n",
       "\n",
       "    .dataframe thead th {\n",
       "        text-align: right;\n",
       "    }\n",
       "</style>\n",
       "<table border=\"1\" class=\"dataframe\">\n",
       "  <thead>\n",
       "    <tr style=\"text-align: right;\">\n",
       "      <th></th>\n",
       "      <th>W</th>\n",
       "      <th>X</th>\n",
       "      <th>Y</th>\n",
       "      <th>Z</th>\n",
       "    </tr>\n",
       "  </thead>\n",
       "  <tbody>\n",
       "    <tr>\n",
       "      <th>A</th>\n",
       "      <td>2.706850</td>\n",
       "      <td>0.628133</td>\n",
       "      <td>0.907969</td>\n",
       "      <td>0.503826</td>\n",
       "    </tr>\n",
       "    <tr>\n",
       "      <th>B</th>\n",
       "      <td>0.651118</td>\n",
       "      <td>-0.319318</td>\n",
       "      <td>-0.848077</td>\n",
       "      <td>0.605965</td>\n",
       "    </tr>\n",
       "    <tr>\n",
       "      <th>C</th>\n",
       "      <td>-2.018168</td>\n",
       "      <td>0.740122</td>\n",
       "      <td>0.528813</td>\n",
       "      <td>-0.589001</td>\n",
       "    </tr>\n",
       "    <tr>\n",
       "      <th>D</th>\n",
       "      <td>0.188695</td>\n",
       "      <td>-0.758872</td>\n",
       "      <td>-0.933237</td>\n",
       "      <td>0.955057</td>\n",
       "    </tr>\n",
       "    <tr>\n",
       "      <th>E</th>\n",
       "      <td>0.190794</td>\n",
       "      <td>1.978757</td>\n",
       "      <td>2.605967</td>\n",
       "      <td>0.683509</td>\n",
       "    </tr>\n",
       "  </tbody>\n",
       "</table>\n",
       "</div>"
      ],
      "text/plain": [
       "          W         X         Y         Z\n",
       "A  2.706850  0.628133  0.907969  0.503826\n",
       "B  0.651118 -0.319318 -0.848077  0.605965\n",
       "C -2.018168  0.740122  0.528813 -0.589001\n",
       "D  0.188695 -0.758872 -0.933237  0.955057\n",
       "E  0.190794  1.978757  2.605967  0.683509"
      ]
     },
     "execution_count": 15,
     "metadata": {},
     "output_type": "execute_result"
    }
   ],
   "source": [
    "df"
   ]
  },
  {
   "cell_type": "code",
   "execution_count": 16,
   "metadata": {},
   "outputs": [
    {
     "data": {
      "text/plain": [
       "A    2.706850\n",
       "B    0.651118\n",
       "C   -2.018168\n",
       "D    0.188695\n",
       "E    0.190794\n",
       "Name: W, dtype: float64"
      ]
     },
     "execution_count": 16,
     "metadata": {},
     "output_type": "execute_result"
    }
   ],
   "source": [
    "df['W']"
   ]
  },
  {
   "cell_type": "code",
   "execution_count": 17,
   "metadata": {},
   "outputs": [],
   "source": [
    "df['NEW'] = df['W'] + df['Y']"
   ]
  },
  {
   "cell_type": "code",
   "execution_count": 18,
   "metadata": {},
   "outputs": [],
   "source": [
    "df.drop('NEW',axis=1,inplace=True)"
   ]
  },
  {
   "cell_type": "code",
   "execution_count": 19,
   "metadata": {},
   "outputs": [
    {
     "data": {
      "text/html": [
       "<div>\n",
       "<style scoped>\n",
       "    .dataframe tbody tr th:only-of-type {\n",
       "        vertical-align: middle;\n",
       "    }\n",
       "\n",
       "    .dataframe tbody tr th {\n",
       "        vertical-align: top;\n",
       "    }\n",
       "\n",
       "    .dataframe thead th {\n",
       "        text-align: right;\n",
       "    }\n",
       "</style>\n",
       "<table border=\"1\" class=\"dataframe\">\n",
       "  <thead>\n",
       "    <tr style=\"text-align: right;\">\n",
       "      <th></th>\n",
       "      <th>W</th>\n",
       "      <th>X</th>\n",
       "      <th>Y</th>\n",
       "      <th>Z</th>\n",
       "    </tr>\n",
       "  </thead>\n",
       "  <tbody>\n",
       "    <tr>\n",
       "      <th>A</th>\n",
       "      <td>2.706850</td>\n",
       "      <td>0.628133</td>\n",
       "      <td>0.907969</td>\n",
       "      <td>0.503826</td>\n",
       "    </tr>\n",
       "    <tr>\n",
       "      <th>B</th>\n",
       "      <td>0.651118</td>\n",
       "      <td>-0.319318</td>\n",
       "      <td>-0.848077</td>\n",
       "      <td>0.605965</td>\n",
       "    </tr>\n",
       "    <tr>\n",
       "      <th>C</th>\n",
       "      <td>-2.018168</td>\n",
       "      <td>0.740122</td>\n",
       "      <td>0.528813</td>\n",
       "      <td>-0.589001</td>\n",
       "    </tr>\n",
       "    <tr>\n",
       "      <th>D</th>\n",
       "      <td>0.188695</td>\n",
       "      <td>-0.758872</td>\n",
       "      <td>-0.933237</td>\n",
       "      <td>0.955057</td>\n",
       "    </tr>\n",
       "  </tbody>\n",
       "</table>\n",
       "</div>"
      ],
      "text/plain": [
       "          W         X         Y         Z\n",
       "A  2.706850  0.628133  0.907969  0.503826\n",
       "B  0.651118 -0.319318 -0.848077  0.605965\n",
       "C -2.018168  0.740122  0.528813 -0.589001\n",
       "D  0.188695 -0.758872 -0.933237  0.955057"
      ]
     },
     "execution_count": 19,
     "metadata": {},
     "output_type": "execute_result"
    }
   ],
   "source": [
    "df.drop('E')"
   ]
  },
  {
   "cell_type": "code",
   "execution_count": 20,
   "metadata": {},
   "outputs": [
    {
     "data": {
      "text/plain": [
       "W   -2.018168\n",
       "X    0.740122\n",
       "Y    0.528813\n",
       "Z   -0.589001\n",
       "Name: C, dtype: float64"
      ]
     },
     "execution_count": 20,
     "metadata": {},
     "output_type": "execute_result"
    }
   ],
   "source": [
    "df.iloc[2]"
   ]
  },
  {
   "cell_type": "code",
   "execution_count": 21,
   "metadata": {},
   "outputs": [
    {
     "data": {
      "text/html": [
       "<div>\n",
       "<style scoped>\n",
       "    .dataframe tbody tr th:only-of-type {\n",
       "        vertical-align: middle;\n",
       "    }\n",
       "\n",
       "    .dataframe tbody tr th {\n",
       "        vertical-align: top;\n",
       "    }\n",
       "\n",
       "    .dataframe thead th {\n",
       "        text-align: right;\n",
       "    }\n",
       "</style>\n",
       "<table border=\"1\" class=\"dataframe\">\n",
       "  <thead>\n",
       "    <tr style=\"text-align: right;\">\n",
       "      <th></th>\n",
       "      <th>W</th>\n",
       "      <th>Y</th>\n",
       "    </tr>\n",
       "  </thead>\n",
       "  <tbody>\n",
       "    <tr>\n",
       "      <th>A</th>\n",
       "      <td>2.706850</td>\n",
       "      <td>0.907969</td>\n",
       "    </tr>\n",
       "    <tr>\n",
       "      <th>B</th>\n",
       "      <td>0.651118</td>\n",
       "      <td>-0.848077</td>\n",
       "    </tr>\n",
       "  </tbody>\n",
       "</table>\n",
       "</div>"
      ],
      "text/plain": [
       "          W         Y\n",
       "A  2.706850  0.907969\n",
       "B  0.651118 -0.848077"
      ]
     },
     "execution_count": 21,
     "metadata": {},
     "output_type": "execute_result"
    }
   ],
   "source": [
    "df.loc[['A','B'],['W','Y']]"
   ]
  },
  {
   "cell_type": "code",
   "execution_count": 22,
   "metadata": {},
   "outputs": [
    {
     "data": {
      "text/html": [
       "<div>\n",
       "<style scoped>\n",
       "    .dataframe tbody tr th:only-of-type {\n",
       "        vertical-align: middle;\n",
       "    }\n",
       "\n",
       "    .dataframe tbody tr th {\n",
       "        vertical-align: top;\n",
       "    }\n",
       "\n",
       "    .dataframe thead th {\n",
       "        text-align: right;\n",
       "    }\n",
       "</style>\n",
       "<table border=\"1\" class=\"dataframe\">\n",
       "  <thead>\n",
       "    <tr style=\"text-align: right;\">\n",
       "      <th></th>\n",
       "      <th>W</th>\n",
       "      <th>X</th>\n",
       "      <th>Y</th>\n",
       "      <th>Z</th>\n",
       "    </tr>\n",
       "  </thead>\n",
       "  <tbody>\n",
       "    <tr>\n",
       "      <th>A</th>\n",
       "      <td>2.706850</td>\n",
       "      <td>0.628133</td>\n",
       "      <td>0.907969</td>\n",
       "      <td>0.503826</td>\n",
       "    </tr>\n",
       "    <tr>\n",
       "      <th>B</th>\n",
       "      <td>0.651118</td>\n",
       "      <td>NaN</td>\n",
       "      <td>NaN</td>\n",
       "      <td>0.605965</td>\n",
       "    </tr>\n",
       "    <tr>\n",
       "      <th>C</th>\n",
       "      <td>NaN</td>\n",
       "      <td>0.740122</td>\n",
       "      <td>0.528813</td>\n",
       "      <td>NaN</td>\n",
       "    </tr>\n",
       "    <tr>\n",
       "      <th>D</th>\n",
       "      <td>0.188695</td>\n",
       "      <td>NaN</td>\n",
       "      <td>NaN</td>\n",
       "      <td>0.955057</td>\n",
       "    </tr>\n",
       "    <tr>\n",
       "      <th>E</th>\n",
       "      <td>0.190794</td>\n",
       "      <td>1.978757</td>\n",
       "      <td>2.605967</td>\n",
       "      <td>0.683509</td>\n",
       "    </tr>\n",
       "  </tbody>\n",
       "</table>\n",
       "</div>"
      ],
      "text/plain": [
       "          W         X         Y         Z\n",
       "A  2.706850  0.628133  0.907969  0.503826\n",
       "B  0.651118       NaN       NaN  0.605965\n",
       "C       NaN  0.740122  0.528813       NaN\n",
       "D  0.188695       NaN       NaN  0.955057\n",
       "E  0.190794  1.978757  2.605967  0.683509"
      ]
     },
     "execution_count": 22,
     "metadata": {},
     "output_type": "execute_result"
    }
   ],
   "source": [
    "booldf = df > 0\n",
    "df[booldf]"
   ]
  },
  {
   "cell_type": "code",
   "execution_count": 27,
   "metadata": {},
   "outputs": [],
   "source": [
    "newind = 'CA NY WY OR CO'.split()"
   ]
  },
  {
   "cell_type": "code",
   "execution_count": 28,
   "metadata": {},
   "outputs": [
    {
     "data": {
      "text/plain": [
       "['CA', 'NY', 'WY', 'OR', 'CO']"
      ]
     },
     "execution_count": 28,
     "metadata": {},
     "output_type": "execute_result"
    }
   ],
   "source": [
    "newind"
   ]
  },
  {
   "cell_type": "code",
   "execution_count": 29,
   "metadata": {},
   "outputs": [],
   "source": [
    "df['States'] = newind"
   ]
  },
  {
   "cell_type": "code",
   "execution_count": 32,
   "metadata": {},
   "outputs": [
    {
     "data": {
      "text/html": [
       "<div>\n",
       "<style scoped>\n",
       "    .dataframe tbody tr th:only-of-type {\n",
       "        vertical-align: middle;\n",
       "    }\n",
       "\n",
       "    .dataframe tbody tr th {\n",
       "        vertical-align: top;\n",
       "    }\n",
       "\n",
       "    .dataframe thead th {\n",
       "        text-align: right;\n",
       "    }\n",
       "</style>\n",
       "<table border=\"1\" class=\"dataframe\">\n",
       "  <thead>\n",
       "    <tr style=\"text-align: right;\">\n",
       "      <th></th>\n",
       "      <th>W</th>\n",
       "      <th>X</th>\n",
       "      <th>Y</th>\n",
       "      <th>Z</th>\n",
       "      <th>States</th>\n",
       "    </tr>\n",
       "  </thead>\n",
       "  <tbody>\n",
       "    <tr>\n",
       "      <th>A</th>\n",
       "      <td>2.706850</td>\n",
       "      <td>0.628133</td>\n",
       "      <td>0.907969</td>\n",
       "      <td>0.503826</td>\n",
       "      <td>CA</td>\n",
       "    </tr>\n",
       "    <tr>\n",
       "      <th>B</th>\n",
       "      <td>0.651118</td>\n",
       "      <td>-0.319318</td>\n",
       "      <td>-0.848077</td>\n",
       "      <td>0.605965</td>\n",
       "      <td>NY</td>\n",
       "    </tr>\n",
       "    <tr>\n",
       "      <th>C</th>\n",
       "      <td>-2.018168</td>\n",
       "      <td>0.740122</td>\n",
       "      <td>0.528813</td>\n",
       "      <td>-0.589001</td>\n",
       "      <td>WY</td>\n",
       "    </tr>\n",
       "    <tr>\n",
       "      <th>D</th>\n",
       "      <td>0.188695</td>\n",
       "      <td>-0.758872</td>\n",
       "      <td>-0.933237</td>\n",
       "      <td>0.955057</td>\n",
       "      <td>OR</td>\n",
       "    </tr>\n",
       "    <tr>\n",
       "      <th>E</th>\n",
       "      <td>0.190794</td>\n",
       "      <td>1.978757</td>\n",
       "      <td>2.605967</td>\n",
       "      <td>0.683509</td>\n",
       "      <td>CO</td>\n",
       "    </tr>\n",
       "  </tbody>\n",
       "</table>\n",
       "</div>"
      ],
      "text/plain": [
       "          W         X         Y         Z States\n",
       "A  2.706850  0.628133  0.907969  0.503826     CA\n",
       "B  0.651118 -0.319318 -0.848077  0.605965     NY\n",
       "C -2.018168  0.740122  0.528813 -0.589001     WY\n",
       "D  0.188695 -0.758872 -0.933237  0.955057     OR\n",
       "E  0.190794  1.978757  2.605967  0.683509     CO"
      ]
     },
     "execution_count": 32,
     "metadata": {},
     "output_type": "execute_result"
    }
   ],
   "source": [
    "df"
   ]
  },
  {
   "cell_type": "code",
   "execution_count": null,
   "metadata": {},
   "outputs": [],
   "source": []
  },
  {
   "cell_type": "code",
   "execution_count": 43,
   "metadata": {},
   "outputs": [],
   "source": [
    "outside = ['G1','G1','G1','G2','G2','G2',]\n",
    "inside = [1,2,3,1,2,3]\n",
    "hier_index = list(zip(outside,inside))\n",
    "hier_index = pd.MultiIndex.from_tuples(hier_index)"
   ]
  },
  {
   "cell_type": "code",
   "execution_count": 45,
   "metadata": {},
   "outputs": [],
   "source": [
    "df = pd.DataFrame(randn(6,2),hier_index,['A','B'])"
   ]
  },
  {
   "cell_type": "code",
   "execution_count": 49,
   "metadata": {},
   "outputs": [
    {
     "data": {
      "text/html": [
       "<div>\n",
       "<style scoped>\n",
       "    .dataframe tbody tr th:only-of-type {\n",
       "        vertical-align: middle;\n",
       "    }\n",
       "\n",
       "    .dataframe tbody tr th {\n",
       "        vertical-align: top;\n",
       "    }\n",
       "\n",
       "    .dataframe thead th {\n",
       "        text-align: right;\n",
       "    }\n",
       "</style>\n",
       "<table border=\"1\" class=\"dataframe\">\n",
       "  <thead>\n",
       "    <tr style=\"text-align: right;\">\n",
       "      <th></th>\n",
       "      <th></th>\n",
       "      <th>A</th>\n",
       "      <th>B</th>\n",
       "    </tr>\n",
       "  </thead>\n",
       "  <tbody>\n",
       "    <tr>\n",
       "      <th rowspan=\"3\" valign=\"top\">G1</th>\n",
       "      <th>1</th>\n",
       "      <td>1.025984</td>\n",
       "      <td>-0.156598</td>\n",
       "    </tr>\n",
       "    <tr>\n",
       "      <th>2</th>\n",
       "      <td>-0.031579</td>\n",
       "      <td>0.649826</td>\n",
       "    </tr>\n",
       "    <tr>\n",
       "      <th>3</th>\n",
       "      <td>2.154846</td>\n",
       "      <td>-0.610259</td>\n",
       "    </tr>\n",
       "    <tr>\n",
       "      <th rowspan=\"3\" valign=\"top\">G2</th>\n",
       "      <th>1</th>\n",
       "      <td>-0.755325</td>\n",
       "      <td>-0.346419</td>\n",
       "    </tr>\n",
       "    <tr>\n",
       "      <th>2</th>\n",
       "      <td>0.147027</td>\n",
       "      <td>-0.479448</td>\n",
       "    </tr>\n",
       "    <tr>\n",
       "      <th>3</th>\n",
       "      <td>0.558769</td>\n",
       "      <td>1.024810</td>\n",
       "    </tr>\n",
       "  </tbody>\n",
       "</table>\n",
       "</div>"
      ],
      "text/plain": [
       "             A         B\n",
       "G1 1  1.025984 -0.156598\n",
       "   2 -0.031579  0.649826\n",
       "   3  2.154846 -0.610259\n",
       "G2 1 -0.755325 -0.346419\n",
       "   2  0.147027 -0.479448\n",
       "   3  0.558769  1.024810"
      ]
     },
     "execution_count": 49,
     "metadata": {},
     "output_type": "execute_result"
    }
   ],
   "source": [
    "df"
   ]
  },
  {
   "cell_type": "code",
   "execution_count": 53,
   "metadata": {},
   "outputs": [],
   "source": [
    "df.index.names = ['Groups','Num']\n"
   ]
  },
  {
   "cell_type": "code",
   "execution_count": 57,
   "metadata": {},
   "outputs": [
    {
     "data": {
      "text/html": [
       "<div>\n",
       "<style scoped>\n",
       "    .dataframe tbody tr th:only-of-type {\n",
       "        vertical-align: middle;\n",
       "    }\n",
       "\n",
       "    .dataframe tbody tr th {\n",
       "        vertical-align: top;\n",
       "    }\n",
       "\n",
       "    .dataframe thead th {\n",
       "        text-align: right;\n",
       "    }\n",
       "</style>\n",
       "<table border=\"1\" class=\"dataframe\">\n",
       "  <thead>\n",
       "    <tr style=\"text-align: right;\">\n",
       "      <th></th>\n",
       "      <th>A</th>\n",
       "      <th>B</th>\n",
       "    </tr>\n",
       "    <tr>\n",
       "      <th>Groups</th>\n",
       "      <th></th>\n",
       "      <th></th>\n",
       "    </tr>\n",
       "  </thead>\n",
       "  <tbody>\n",
       "    <tr>\n",
       "      <th>G1</th>\n",
       "      <td>1.025984</td>\n",
       "      <td>-0.156598</td>\n",
       "    </tr>\n",
       "    <tr>\n",
       "      <th>G2</th>\n",
       "      <td>-0.755325</td>\n",
       "      <td>-0.346419</td>\n",
       "    </tr>\n",
       "  </tbody>\n",
       "</table>\n",
       "</div>"
      ],
      "text/plain": [
       "               A         B\n",
       "Groups                    \n",
       "G1      1.025984 -0.156598\n",
       "G2     -0.755325 -0.346419"
      ]
     },
     "execution_count": 57,
     "metadata": {},
     "output_type": "execute_result"
    }
   ],
   "source": [
    "df.xs(1,level='Num')"
   ]
  },
  {
   "cell_type": "code",
   "execution_count": 58,
   "metadata": {},
   "outputs": [
    {
     "data": {
      "text/plain": [
       "'/Users/martinfournier/git/pythonfinance'"
      ]
     },
     "execution_count": 58,
     "metadata": {},
     "output_type": "execute_result"
    }
   ],
   "source": [
    "pwd"
   ]
  },
  {
   "cell_type": "code",
   "execution_count": 68,
   "metadata": {},
   "outputs": [
    {
     "data": {
      "text/html": [
       "<div>\n",
       "<style scoped>\n",
       "    .dataframe tbody tr th:only-of-type {\n",
       "        vertical-align: middle;\n",
       "    }\n",
       "\n",
       "    .dataframe tbody tr th {\n",
       "        vertical-align: top;\n",
       "    }\n",
       "\n",
       "    .dataframe thead th {\n",
       "        text-align: right;\n",
       "    }\n",
       "</style>\n",
       "<table border=\"1\" class=\"dataframe\">\n",
       "  <thead>\n",
       "    <tr style=\"text-align: right;\">\n",
       "      <th></th>\n",
       "      <th>timestamp</th>\n",
       "      <th>open</th>\n",
       "      <th>high</th>\n",
       "      <th>low</th>\n",
       "      <th>volume</th>\n",
       "    </tr>\n",
       "  </thead>\n",
       "  <tbody>\n",
       "    <tr>\n",
       "      <th>2018-03-01 00:00:00</th>\n",
       "      <td>1.21935</td>\n",
       "      <td>1.21935</td>\n",
       "      <td>1.21931</td>\n",
       "      <td>1.21931</td>\n",
       "      <td>0</td>\n",
       "    </tr>\n",
       "    <tr>\n",
       "      <th>2018-03-01 00:01:00</th>\n",
       "      <td>1.21932</td>\n",
       "      <td>1.21932</td>\n",
       "      <td>1.21917</td>\n",
       "      <td>1.21920</td>\n",
       "      <td>0</td>\n",
       "    </tr>\n",
       "    <tr>\n",
       "      <th>2018-03-01 00:02:00</th>\n",
       "      <td>1.21919</td>\n",
       "      <td>1.21925</td>\n",
       "      <td>1.21918</td>\n",
       "      <td>1.21918</td>\n",
       "      <td>0</td>\n",
       "    </tr>\n",
       "    <tr>\n",
       "      <th>2018-03-01 00:03:00</th>\n",
       "      <td>1.21921</td>\n",
       "      <td>1.21923</td>\n",
       "      <td>1.21918</td>\n",
       "      <td>1.21919</td>\n",
       "      <td>0</td>\n",
       "    </tr>\n",
       "    <tr>\n",
       "      <th>2018-03-01 00:04:00</th>\n",
       "      <td>1.21918</td>\n",
       "      <td>1.21926</td>\n",
       "      <td>1.21917</td>\n",
       "      <td>1.21926</td>\n",
       "      <td>0</td>\n",
       "    </tr>\n",
       "    <tr>\n",
       "      <th>2018-03-01 00:05:00</th>\n",
       "      <td>1.21927</td>\n",
       "      <td>1.21934</td>\n",
       "      <td>1.21923</td>\n",
       "      <td>1.21929</td>\n",
       "      <td>0</td>\n",
       "    </tr>\n",
       "    <tr>\n",
       "      <th>2018-03-01 00:06:00</th>\n",
       "      <td>1.21930</td>\n",
       "      <td>1.21930</td>\n",
       "      <td>1.21913</td>\n",
       "      <td>1.21914</td>\n",
       "      <td>0</td>\n",
       "    </tr>\n",
       "    <tr>\n",
       "      <th>2018-03-01 00:07:00</th>\n",
       "      <td>1.21913</td>\n",
       "      <td>1.21928</td>\n",
       "      <td>1.21913</td>\n",
       "      <td>1.21928</td>\n",
       "      <td>0</td>\n",
       "    </tr>\n",
       "    <tr>\n",
       "      <th>2018-03-01 00:08:00</th>\n",
       "      <td>1.21928</td>\n",
       "      <td>1.21940</td>\n",
       "      <td>1.21928</td>\n",
       "      <td>1.21938</td>\n",
       "      <td>0</td>\n",
       "    </tr>\n",
       "    <tr>\n",
       "      <th>2018-03-01 00:09:00</th>\n",
       "      <td>1.21936</td>\n",
       "      <td>1.21939</td>\n",
       "      <td>1.21928</td>\n",
       "      <td>1.21939</td>\n",
       "      <td>0</td>\n",
       "    </tr>\n",
       "    <tr>\n",
       "      <th>2018-03-01 00:10:00</th>\n",
       "      <td>1.21940</td>\n",
       "      <td>1.21940</td>\n",
       "      <td>1.21934</td>\n",
       "      <td>1.21935</td>\n",
       "      <td>0</td>\n",
       "    </tr>\n",
       "    <tr>\n",
       "      <th>2018-03-01 00:11:00</th>\n",
       "      <td>1.21936</td>\n",
       "      <td>1.21946</td>\n",
       "      <td>1.21935</td>\n",
       "      <td>1.21945</td>\n",
       "      <td>0</td>\n",
       "    </tr>\n",
       "    <tr>\n",
       "      <th>2018-03-01 00:12:00</th>\n",
       "      <td>1.21950</td>\n",
       "      <td>1.21969</td>\n",
       "      <td>1.21948</td>\n",
       "      <td>1.21965</td>\n",
       "      <td>0</td>\n",
       "    </tr>\n",
       "    <tr>\n",
       "      <th>2018-03-01 00:13:00</th>\n",
       "      <td>1.21964</td>\n",
       "      <td>1.21967</td>\n",
       "      <td>1.21953</td>\n",
       "      <td>1.21961</td>\n",
       "      <td>0</td>\n",
       "    </tr>\n",
       "    <tr>\n",
       "      <th>2018-03-01 00:14:00</th>\n",
       "      <td>1.21960</td>\n",
       "      <td>1.21961</td>\n",
       "      <td>1.21958</td>\n",
       "      <td>1.21960</td>\n",
       "      <td>0</td>\n",
       "    </tr>\n",
       "    <tr>\n",
       "      <th>2018-03-01 00:15:00</th>\n",
       "      <td>1.21957</td>\n",
       "      <td>1.21959</td>\n",
       "      <td>1.21949</td>\n",
       "      <td>1.21949</td>\n",
       "      <td>0</td>\n",
       "    </tr>\n",
       "    <tr>\n",
       "      <th>2018-03-01 00:16:00</th>\n",
       "      <td>1.21951</td>\n",
       "      <td>1.21951</td>\n",
       "      <td>1.21937</td>\n",
       "      <td>1.21939</td>\n",
       "      <td>0</td>\n",
       "    </tr>\n",
       "    <tr>\n",
       "      <th>2018-03-01 00:17:00</th>\n",
       "      <td>1.21939</td>\n",
       "      <td>1.21943</td>\n",
       "      <td>1.21939</td>\n",
       "      <td>1.21943</td>\n",
       "      <td>0</td>\n",
       "    </tr>\n",
       "    <tr>\n",
       "      <th>2018-03-01 00:18:00</th>\n",
       "      <td>1.21943</td>\n",
       "      <td>1.21943</td>\n",
       "      <td>1.21936</td>\n",
       "      <td>1.21936</td>\n",
       "      <td>0</td>\n",
       "    </tr>\n",
       "    <tr>\n",
       "      <th>2018-03-01 00:19:00</th>\n",
       "      <td>1.21936</td>\n",
       "      <td>1.21941</td>\n",
       "      <td>1.21935</td>\n",
       "      <td>1.21937</td>\n",
       "      <td>0</td>\n",
       "    </tr>\n",
       "    <tr>\n",
       "      <th>2018-03-01 00:20:00</th>\n",
       "      <td>1.21936</td>\n",
       "      <td>1.21936</td>\n",
       "      <td>1.21933</td>\n",
       "      <td>1.21934</td>\n",
       "      <td>0</td>\n",
       "    </tr>\n",
       "    <tr>\n",
       "      <th>2018-03-01 00:21:00</th>\n",
       "      <td>1.21935</td>\n",
       "      <td>1.21938</td>\n",
       "      <td>1.21932</td>\n",
       "      <td>1.21938</td>\n",
       "      <td>0</td>\n",
       "    </tr>\n",
       "    <tr>\n",
       "      <th>2018-03-01 00:22:00</th>\n",
       "      <td>1.21939</td>\n",
       "      <td>1.21944</td>\n",
       "      <td>1.21939</td>\n",
       "      <td>1.21944</td>\n",
       "      <td>0</td>\n",
       "    </tr>\n",
       "    <tr>\n",
       "      <th>2018-03-01 00:23:00</th>\n",
       "      <td>1.21945</td>\n",
       "      <td>1.21950</td>\n",
       "      <td>1.21945</td>\n",
       "      <td>1.21949</td>\n",
       "      <td>0</td>\n",
       "    </tr>\n",
       "    <tr>\n",
       "      <th>2018-03-01 00:24:00</th>\n",
       "      <td>1.21948</td>\n",
       "      <td>1.21948</td>\n",
       "      <td>1.21934</td>\n",
       "      <td>1.21939</td>\n",
       "      <td>0</td>\n",
       "    </tr>\n",
       "    <tr>\n",
       "      <th>2018-03-01 00:25:00</th>\n",
       "      <td>1.21938</td>\n",
       "      <td>1.21943</td>\n",
       "      <td>1.21934</td>\n",
       "      <td>1.21934</td>\n",
       "      <td>0</td>\n",
       "    </tr>\n",
       "    <tr>\n",
       "      <th>2018-03-01 00:26:00</th>\n",
       "      <td>1.21935</td>\n",
       "      <td>1.21935</td>\n",
       "      <td>1.21928</td>\n",
       "      <td>1.21929</td>\n",
       "      <td>0</td>\n",
       "    </tr>\n",
       "    <tr>\n",
       "      <th>2018-03-01 00:27:00</th>\n",
       "      <td>1.21929</td>\n",
       "      <td>1.21930</td>\n",
       "      <td>1.21929</td>\n",
       "      <td>1.21930</td>\n",
       "      <td>0</td>\n",
       "    </tr>\n",
       "    <tr>\n",
       "      <th>2018-03-01 00:28:00</th>\n",
       "      <td>1.21930</td>\n",
       "      <td>1.21931</td>\n",
       "      <td>1.21924</td>\n",
       "      <td>1.21928</td>\n",
       "      <td>0</td>\n",
       "    </tr>\n",
       "    <tr>\n",
       "      <th>2018-03-01 00:29:00</th>\n",
       "      <td>1.21928</td>\n",
       "      <td>1.21937</td>\n",
       "      <td>1.21923</td>\n",
       "      <td>1.21923</td>\n",
       "      <td>0</td>\n",
       "    </tr>\n",
       "    <tr>\n",
       "      <th>...</th>\n",
       "      <td>...</td>\n",
       "      <td>...</td>\n",
       "      <td>...</td>\n",
       "      <td>...</td>\n",
       "      <td>...</td>\n",
       "    </tr>\n",
       "    <tr>\n",
       "      <th>2018-03-23 16:29:00</th>\n",
       "      <td>1.23586</td>\n",
       "      <td>1.23588</td>\n",
       "      <td>1.23585</td>\n",
       "      <td>1.23588</td>\n",
       "      <td>0</td>\n",
       "    </tr>\n",
       "    <tr>\n",
       "      <th>2018-03-23 16:30:00</th>\n",
       "      <td>1.23589</td>\n",
       "      <td>1.23590</td>\n",
       "      <td>1.23566</td>\n",
       "      <td>1.23566</td>\n",
       "      <td>0</td>\n",
       "    </tr>\n",
       "    <tr>\n",
       "      <th>2018-03-23 16:31:00</th>\n",
       "      <td>1.23567</td>\n",
       "      <td>1.23567</td>\n",
       "      <td>1.23556</td>\n",
       "      <td>1.23558</td>\n",
       "      <td>0</td>\n",
       "    </tr>\n",
       "    <tr>\n",
       "      <th>2018-03-23 16:32:00</th>\n",
       "      <td>1.23558</td>\n",
       "      <td>1.23573</td>\n",
       "      <td>1.23558</td>\n",
       "      <td>1.23571</td>\n",
       "      <td>0</td>\n",
       "    </tr>\n",
       "    <tr>\n",
       "      <th>2018-03-23 16:33:00</th>\n",
       "      <td>1.23577</td>\n",
       "      <td>1.23577</td>\n",
       "      <td>1.23566</td>\n",
       "      <td>1.23566</td>\n",
       "      <td>0</td>\n",
       "    </tr>\n",
       "    <tr>\n",
       "      <th>2018-03-23 16:34:00</th>\n",
       "      <td>1.23568</td>\n",
       "      <td>1.23573</td>\n",
       "      <td>1.23563</td>\n",
       "      <td>1.23571</td>\n",
       "      <td>0</td>\n",
       "    </tr>\n",
       "    <tr>\n",
       "      <th>2018-03-23 16:35:00</th>\n",
       "      <td>1.23570</td>\n",
       "      <td>1.23570</td>\n",
       "      <td>1.23563</td>\n",
       "      <td>1.23565</td>\n",
       "      <td>0</td>\n",
       "    </tr>\n",
       "    <tr>\n",
       "      <th>2018-03-23 16:36:00</th>\n",
       "      <td>1.23565</td>\n",
       "      <td>1.23565</td>\n",
       "      <td>1.23563</td>\n",
       "      <td>1.23565</td>\n",
       "      <td>0</td>\n",
       "    </tr>\n",
       "    <tr>\n",
       "      <th>2018-03-23 16:37:00</th>\n",
       "      <td>1.23566</td>\n",
       "      <td>1.23573</td>\n",
       "      <td>1.23564</td>\n",
       "      <td>1.23570</td>\n",
       "      <td>0</td>\n",
       "    </tr>\n",
       "    <tr>\n",
       "      <th>2018-03-23 16:38:00</th>\n",
       "      <td>1.23569</td>\n",
       "      <td>1.23569</td>\n",
       "      <td>1.23567</td>\n",
       "      <td>1.23568</td>\n",
       "      <td>0</td>\n",
       "    </tr>\n",
       "    <tr>\n",
       "      <th>2018-03-23 16:39:00</th>\n",
       "      <td>1.23568</td>\n",
       "      <td>1.23578</td>\n",
       "      <td>1.23568</td>\n",
       "      <td>1.23576</td>\n",
       "      <td>0</td>\n",
       "    </tr>\n",
       "    <tr>\n",
       "      <th>2018-03-23 16:40:00</th>\n",
       "      <td>1.23578</td>\n",
       "      <td>1.23581</td>\n",
       "      <td>1.23576</td>\n",
       "      <td>1.23576</td>\n",
       "      <td>0</td>\n",
       "    </tr>\n",
       "    <tr>\n",
       "      <th>2018-03-23 16:41:00</th>\n",
       "      <td>1.23576</td>\n",
       "      <td>1.23579</td>\n",
       "      <td>1.23576</td>\n",
       "      <td>1.23576</td>\n",
       "      <td>0</td>\n",
       "    </tr>\n",
       "    <tr>\n",
       "      <th>2018-03-23 16:42:00</th>\n",
       "      <td>1.23576</td>\n",
       "      <td>1.23580</td>\n",
       "      <td>1.23573</td>\n",
       "      <td>1.23573</td>\n",
       "      <td>0</td>\n",
       "    </tr>\n",
       "    <tr>\n",
       "      <th>2018-03-23 16:43:00</th>\n",
       "      <td>1.23573</td>\n",
       "      <td>1.23581</td>\n",
       "      <td>1.23573</td>\n",
       "      <td>1.23577</td>\n",
       "      <td>0</td>\n",
       "    </tr>\n",
       "    <tr>\n",
       "      <th>2018-03-23 16:44:00</th>\n",
       "      <td>1.23583</td>\n",
       "      <td>1.23588</td>\n",
       "      <td>1.23582</td>\n",
       "      <td>1.23587</td>\n",
       "      <td>0</td>\n",
       "    </tr>\n",
       "    <tr>\n",
       "      <th>2018-03-23 16:45:00</th>\n",
       "      <td>1.23589</td>\n",
       "      <td>1.23589</td>\n",
       "      <td>1.23582</td>\n",
       "      <td>1.23582</td>\n",
       "      <td>0</td>\n",
       "    </tr>\n",
       "    <tr>\n",
       "      <th>2018-03-23 16:46:00</th>\n",
       "      <td>1.23582</td>\n",
       "      <td>1.23586</td>\n",
       "      <td>1.23567</td>\n",
       "      <td>1.23567</td>\n",
       "      <td>0</td>\n",
       "    </tr>\n",
       "    <tr>\n",
       "      <th>2018-03-23 16:47:00</th>\n",
       "      <td>1.23567</td>\n",
       "      <td>1.23567</td>\n",
       "      <td>1.23542</td>\n",
       "      <td>1.23544</td>\n",
       "      <td>0</td>\n",
       "    </tr>\n",
       "    <tr>\n",
       "      <th>2018-03-23 16:48:00</th>\n",
       "      <td>1.23544</td>\n",
       "      <td>1.23556</td>\n",
       "      <td>1.23542</td>\n",
       "      <td>1.23556</td>\n",
       "      <td>0</td>\n",
       "    </tr>\n",
       "    <tr>\n",
       "      <th>2018-03-23 16:49:00</th>\n",
       "      <td>1.23554</td>\n",
       "      <td>1.23565</td>\n",
       "      <td>1.23554</td>\n",
       "      <td>1.23563</td>\n",
       "      <td>0</td>\n",
       "    </tr>\n",
       "    <tr>\n",
       "      <th>2018-03-23 16:50:00</th>\n",
       "      <td>1.23562</td>\n",
       "      <td>1.23562</td>\n",
       "      <td>1.23547</td>\n",
       "      <td>1.23548</td>\n",
       "      <td>0</td>\n",
       "    </tr>\n",
       "    <tr>\n",
       "      <th>2018-03-23 16:51:00</th>\n",
       "      <td>1.23547</td>\n",
       "      <td>1.23552</td>\n",
       "      <td>1.23543</td>\n",
       "      <td>1.23549</td>\n",
       "      <td>0</td>\n",
       "    </tr>\n",
       "    <tr>\n",
       "      <th>2018-03-23 16:52:00</th>\n",
       "      <td>1.23549</td>\n",
       "      <td>1.23549</td>\n",
       "      <td>1.23537</td>\n",
       "      <td>1.23545</td>\n",
       "      <td>0</td>\n",
       "    </tr>\n",
       "    <tr>\n",
       "      <th>2018-03-23 16:53:00</th>\n",
       "      <td>1.23544</td>\n",
       "      <td>1.23544</td>\n",
       "      <td>1.23529</td>\n",
       "      <td>1.23535</td>\n",
       "      <td>0</td>\n",
       "    </tr>\n",
       "    <tr>\n",
       "      <th>2018-03-23 16:54:00</th>\n",
       "      <td>1.23534</td>\n",
       "      <td>1.23535</td>\n",
       "      <td>1.23522</td>\n",
       "      <td>1.23528</td>\n",
       "      <td>0</td>\n",
       "    </tr>\n",
       "    <tr>\n",
       "      <th>2018-03-23 16:55:00</th>\n",
       "      <td>1.23528</td>\n",
       "      <td>1.23535</td>\n",
       "      <td>1.23512</td>\n",
       "      <td>1.23535</td>\n",
       "      <td>0</td>\n",
       "    </tr>\n",
       "    <tr>\n",
       "      <th>2018-03-23 16:56:00</th>\n",
       "      <td>1.23535</td>\n",
       "      <td>1.23539</td>\n",
       "      <td>1.23515</td>\n",
       "      <td>1.23515</td>\n",
       "      <td>0</td>\n",
       "    </tr>\n",
       "    <tr>\n",
       "      <th>2018-03-23 16:57:00</th>\n",
       "      <td>1.23515</td>\n",
       "      <td>1.23531</td>\n",
       "      <td>1.23515</td>\n",
       "      <td>1.23527</td>\n",
       "      <td>0</td>\n",
       "    </tr>\n",
       "    <tr>\n",
       "      <th>2018-03-23 16:58:00</th>\n",
       "      <td>1.23527</td>\n",
       "      <td>1.23527</td>\n",
       "      <td>1.23522</td>\n",
       "      <td>1.23523</td>\n",
       "      <td>0</td>\n",
       "    </tr>\n",
       "  </tbody>\n",
       "</table>\n",
       "<p>24004 rows × 5 columns</p>\n",
       "</div>"
      ],
      "text/plain": [
       "                     timestamp     open     high      low  volume\n",
       "2018-03-01 00:00:00    1.21935  1.21935  1.21931  1.21931       0\n",
       "2018-03-01 00:01:00    1.21932  1.21932  1.21917  1.21920       0\n",
       "2018-03-01 00:02:00    1.21919  1.21925  1.21918  1.21918       0\n",
       "2018-03-01 00:03:00    1.21921  1.21923  1.21918  1.21919       0\n",
       "2018-03-01 00:04:00    1.21918  1.21926  1.21917  1.21926       0\n",
       "2018-03-01 00:05:00    1.21927  1.21934  1.21923  1.21929       0\n",
       "2018-03-01 00:06:00    1.21930  1.21930  1.21913  1.21914       0\n",
       "2018-03-01 00:07:00    1.21913  1.21928  1.21913  1.21928       0\n",
       "2018-03-01 00:08:00    1.21928  1.21940  1.21928  1.21938       0\n",
       "2018-03-01 00:09:00    1.21936  1.21939  1.21928  1.21939       0\n",
       "2018-03-01 00:10:00    1.21940  1.21940  1.21934  1.21935       0\n",
       "2018-03-01 00:11:00    1.21936  1.21946  1.21935  1.21945       0\n",
       "2018-03-01 00:12:00    1.21950  1.21969  1.21948  1.21965       0\n",
       "2018-03-01 00:13:00    1.21964  1.21967  1.21953  1.21961       0\n",
       "2018-03-01 00:14:00    1.21960  1.21961  1.21958  1.21960       0\n",
       "2018-03-01 00:15:00    1.21957  1.21959  1.21949  1.21949       0\n",
       "2018-03-01 00:16:00    1.21951  1.21951  1.21937  1.21939       0\n",
       "2018-03-01 00:17:00    1.21939  1.21943  1.21939  1.21943       0\n",
       "2018-03-01 00:18:00    1.21943  1.21943  1.21936  1.21936       0\n",
       "2018-03-01 00:19:00    1.21936  1.21941  1.21935  1.21937       0\n",
       "2018-03-01 00:20:00    1.21936  1.21936  1.21933  1.21934       0\n",
       "2018-03-01 00:21:00    1.21935  1.21938  1.21932  1.21938       0\n",
       "2018-03-01 00:22:00    1.21939  1.21944  1.21939  1.21944       0\n",
       "2018-03-01 00:23:00    1.21945  1.21950  1.21945  1.21949       0\n",
       "2018-03-01 00:24:00    1.21948  1.21948  1.21934  1.21939       0\n",
       "2018-03-01 00:25:00    1.21938  1.21943  1.21934  1.21934       0\n",
       "2018-03-01 00:26:00    1.21935  1.21935  1.21928  1.21929       0\n",
       "2018-03-01 00:27:00    1.21929  1.21930  1.21929  1.21930       0\n",
       "2018-03-01 00:28:00    1.21930  1.21931  1.21924  1.21928       0\n",
       "2018-03-01 00:29:00    1.21928  1.21937  1.21923  1.21923       0\n",
       "...                        ...      ...      ...      ...     ...\n",
       "2018-03-23 16:29:00    1.23586  1.23588  1.23585  1.23588       0\n",
       "2018-03-23 16:30:00    1.23589  1.23590  1.23566  1.23566       0\n",
       "2018-03-23 16:31:00    1.23567  1.23567  1.23556  1.23558       0\n",
       "2018-03-23 16:32:00    1.23558  1.23573  1.23558  1.23571       0\n",
       "2018-03-23 16:33:00    1.23577  1.23577  1.23566  1.23566       0\n",
       "2018-03-23 16:34:00    1.23568  1.23573  1.23563  1.23571       0\n",
       "2018-03-23 16:35:00    1.23570  1.23570  1.23563  1.23565       0\n",
       "2018-03-23 16:36:00    1.23565  1.23565  1.23563  1.23565       0\n",
       "2018-03-23 16:37:00    1.23566  1.23573  1.23564  1.23570       0\n",
       "2018-03-23 16:38:00    1.23569  1.23569  1.23567  1.23568       0\n",
       "2018-03-23 16:39:00    1.23568  1.23578  1.23568  1.23576       0\n",
       "2018-03-23 16:40:00    1.23578  1.23581  1.23576  1.23576       0\n",
       "2018-03-23 16:41:00    1.23576  1.23579  1.23576  1.23576       0\n",
       "2018-03-23 16:42:00    1.23576  1.23580  1.23573  1.23573       0\n",
       "2018-03-23 16:43:00    1.23573  1.23581  1.23573  1.23577       0\n",
       "2018-03-23 16:44:00    1.23583  1.23588  1.23582  1.23587       0\n",
       "2018-03-23 16:45:00    1.23589  1.23589  1.23582  1.23582       0\n",
       "2018-03-23 16:46:00    1.23582  1.23586  1.23567  1.23567       0\n",
       "2018-03-23 16:47:00    1.23567  1.23567  1.23542  1.23544       0\n",
       "2018-03-23 16:48:00    1.23544  1.23556  1.23542  1.23556       0\n",
       "2018-03-23 16:49:00    1.23554  1.23565  1.23554  1.23563       0\n",
       "2018-03-23 16:50:00    1.23562  1.23562  1.23547  1.23548       0\n",
       "2018-03-23 16:51:00    1.23547  1.23552  1.23543  1.23549       0\n",
       "2018-03-23 16:52:00    1.23549  1.23549  1.23537  1.23545       0\n",
       "2018-03-23 16:53:00    1.23544  1.23544  1.23529  1.23535       0\n",
       "2018-03-23 16:54:00    1.23534  1.23535  1.23522  1.23528       0\n",
       "2018-03-23 16:55:00    1.23528  1.23535  1.23512  1.23535       0\n",
       "2018-03-23 16:56:00    1.23535  1.23539  1.23515  1.23515       0\n",
       "2018-03-23 16:57:00    1.23515  1.23531  1.23515  1.23527       0\n",
       "2018-03-23 16:58:00    1.23527  1.23527  1.23522  1.23523       0\n",
       "\n",
       "[24004 rows x 5 columns]"
      ]
     },
     "execution_count": 68,
     "metadata": {},
     "output_type": "execute_result"
    }
   ],
   "source": [
    "headers = ['timestamp', 'open', 'high', 'low','close','volume']\n",
    "pd.read_csv('EURUSD_M1_201803.csv',sep=';',names=headers,parse_dates=True)"
   ]
  },
  {
   "cell_type": "code",
   "execution_count": null,
   "metadata": {},
   "outputs": [],
   "source": [
    "\n"
   ]
  },
  {
   "cell_type": "code",
   "execution_count": null,
   "metadata": {},
   "outputs": [],
   "source": []
  }
 ],
 "metadata": {
  "kernelspec": {
   "display_name": "Python 3",
   "language": "python",
   "name": "python3"
  },
  "language_info": {
   "codemirror_mode": {
    "name": "ipython",
    "version": 3
   },
   "file_extension": ".py",
   "mimetype": "text/x-python",
   "name": "python",
   "nbconvert_exporter": "python",
   "pygments_lexer": "ipython3",
   "version": "3.6.4"
  },
  "widgets": {
   "application/vnd.jupyter.widget-state+json": {
    "state": {},
    "version_major": 2,
    "version_minor": 0
   }
  }
 },
 "nbformat": 4,
 "nbformat_minor": 2
}
